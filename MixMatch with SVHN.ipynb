{
 "cells": [
  {
   "cell_type": "code",
   "execution_count": 1,
   "id": "df19a9d5-c5f6-45c7-8f2f-e06fc76fc5b1",
   "metadata": {},
   "outputs": [
    {
     "name": "stderr",
     "output_type": "stream",
     "text": [
      "/Users/robertkasumba/opt/anaconda3/lib/python3.9/site-packages/scipy/__init__.py:146: UserWarning: A NumPy version >=1.16.5 and <1.23.0 is required for this version of SciPy (detected version 1.24.2\n",
      "  warnings.warn(f\"A NumPy version >={np_minversion} and <{np_maxversion}\"\n"
     ]
    },
    {
     "name": "stdout",
     "output_type": "stream",
     "text": [
      "/Users/robertkasumba/opt/anaconda3/bin/python 3.9.12 (main, Apr  5 2022, 01:53:17) \n",
      "[Clang 12.0.0 ]\n"
     ]
    }
   ],
   "source": [
    "# !pip install numpy \n",
    "# !pip install --upgrade tensorflow\n",
    "from sklearn.datasets import fetch_openml\n",
    "import numpy as np\n",
    "from sklearn.model_selection import train_test_split\n",
    "import fastai\n",
    "# import tensorflow as tf\n",
    "import sys\n",
    "print(sys.executable, sys.version)"
   ]
  },
  {
   "cell_type": "code",
   "execution_count": null,
   "id": "3fcf1e60-8516-4dc3-ae07-23fef285b7bf",
   "metadata": {},
   "outputs": [],
   "source": []
  },
  {
   "cell_type": "code",
   "execution_count": 2,
   "id": "ba9f7c1a-d9cb-4d01-8c24-e79fe69b4208",
   "metadata": {},
   "outputs": [],
   "source": [
    "svhn = fetch_openml(\"SVHN_small\")\n",
    "n_samples = 1000"
   ]
  },
  {
   "cell_type": "code",
   "execution_count": 3,
   "id": "f8d75747-73e7-4421-b08a-5a75bdae9730",
   "metadata": {},
   "outputs": [],
   "source": [
    "X = svhn[\"data\"][0:n_samples].values.reshape(-1, 32, 32, 3) / 255.0\n",
    "y = svhn[\"target\"][0:n_samples]\n",
    "y = y.astype(np.int32)\n",
    "svhn = None\n"
   ]
  },
  {
   "cell_type": "code",
   "execution_count": 4,
   "id": "2e869136-0283-419c-8973-72bd473b9e9b",
   "metadata": {},
   "outputs": [],
   "source": [
    "# Split the data into training and validation sets\n",
    "X_train, X_val, y_train, y_val= train_test_split(X,y)\n"
   ]
  },
  {
   "cell_type": "code",
   "execution_count": 5,
   "id": "c0359ce7-6510-4d0a-8093-9dbbfdcd4281",
   "metadata": {},
   "outputs": [
    {
     "data": {
      "text/plain": [
       "(750, 32, 32, 3)"
      ]
     },
     "execution_count": 5,
     "metadata": {},
     "output_type": "execute_result"
    }
   ],
   "source": [
    "X_train.shape"
   ]
  },
  {
   "cell_type": "code",
   "execution_count": null,
   "id": "fd514297-a223-414c-a316-802377d980b1",
   "metadata": {},
   "outputs": [],
   "source": []
  },
  {
   "cell_type": "code",
   "execution_count": null,
   "id": "0c39c369-390e-407e-bc18-07c34bded7bd",
   "metadata": {},
   "outputs": [],
   "source": []
  },
  {
   "cell_type": "code",
   "execution_count": 6,
   "id": "0a78a36f-0d90-4487-88c4-d1048e0879cf",
   "metadata": {},
   "outputs": [],
   "source": [
    "\n",
    "X_train_labeled,X_train_unlabeled, y_labeled,_ = train_test_split(X_train,y_train,test_size = 0.5)\n"
   ]
  },
  {
   "cell_type": "code",
   "execution_count": 7,
   "id": "0e71c97f-50ba-4047-a56c-7de5ba677b9e",
   "metadata": {},
   "outputs": [],
   "source": [
    "import torch\n",
    "import torch.nn as nn\n",
    "import torch.optim as optim\n",
    "import torchvision\n",
    "import numpy as np\n",
    "import random\n",
    "\n",
    "class MixMatch(nn.Module):\n",
    "    def __init__(self, model, loss_fn, num_classes, beta, augmentations):\n",
    "        super().__init__()\n",
    "        self.model = model\n",
    "        self.loss_fn = loss_fn\n",
    "        self.num_classes = num_classes\n",
    "        self.beta = beta\n",
    "        self.augmentations = augmentations\n",
    "        \n",
    "    def mixup(self, x, y, alpha=1.0):\n",
    "        \"\"\"\n",
    "        Generates mixed examples and corresponding labels.\n",
    "        \"\"\"\n",
    "        # If alpha is positive, generate the mixing parameter from a beta distribution\n",
    "        if alpha > 0:\n",
    "            lam = np.random.beta(alpha, alpha)\n",
    "        else:\n",
    "            lam = 1\n",
    "\n",
    "        # Get the batch size\n",
    "        batch_size = x.size()[0]\n",
    "        \n",
    "        # Generate a random permutation of the indices of the batch\n",
    "        index = torch.randperm(batch_size).cuda()\n",
    "\n",
    "        # Compute the mixed examples\n",
    "        mixed_x = lam * x + (1 - lam) * x[index,:]\n",
    "        \n",
    "        # Compute the mixed labels\n",
    "        mixed_y = lam * y + (1 - lam) * y[index]\n",
    "        \n",
    "        # Return the mixed examples and labels\n",
    "        return mixed_x, mixed_y\n",
    "\n",
    "    def augment(self, x):\n",
    "        \"\"\"\n",
    "        Applies data augmentation to the input.\n",
    "        \"\"\"\n",
    "        if self.augmentations is not None:\n",
    "            x = self.augmentations(x)\n",
    "        return x\n",
    "\n",
    "    def sharpening(self, predictions, temperature=0.5):\n",
    "        \"\"\"\n",
    "        Sharpens the predictions using temperature scaling.\n",
    "        \"\"\"\n",
    "        return predictions ** (1 / temperature)\n",
    "    \n",
    "    def augment(self, x):\n",
    "        \"\"\"\n",
    "        Applies data augmentation to the input.\n",
    "        \"\"\"\n",
    "        # If augmentations are specified, apply them to the input\n",
    "        if self.augmentations is not None:\n",
    "            x = self.augmentations(x)\n",
    "            \n",
    "        # Return the augmented input\n",
    "        return x\n",
    "\n",
    "    def sharpening(self, predictions, temperature=0.5):\n",
    "        \"\"\"\n",
    "        Sharpens the predictions using temperature scaling.\n",
    "        \"\"\"\n",
    "        # Compute the sharpened predictions\n",
    "        return predictions ** (1 / temperature)\n",
    "    \n",
    "    def forward(self, x_l, y_l, x_u):\n",
    "        \"\"\"\n",
    "        Performs the MixMatch forward pass.\n",
    "        \"\"\"\n",
    "        # Augment the labeled examples and labels\n",
    "        x_l, y_l = self.augment(x_l), y_l\n",
    "        \n",
    "        # Augment the unlabeled examples\n",
    "        x_u = self.augment(x_u)\n",
    "        \n",
    "        # Generate mixed examples and corresponding labels\n",
    "        mixed_x, mixed_y = self.mixup(x_l, y_l, self.beta)\n",
    "        \n",
    "        # Predict the labels for mixed examples\n",
    "        mixed_preds = self.model(mixed_x)\n",
    "        \n",
    "        # Sharpen the predictions for mixed examples\n",
    "        mixed_preds = self.sharpening(mixed_preds, temperature=0.5)\n",
    "        \n",
    "        # Predict the labels for unlabeled examples\n",
    "        unlabeled_preds = self.model(x_u)\n",
    "        \n",
    "        # Sharpen the predictions for unlabeled examples\n",
    "        unlabeled_preds = self.sharpening(unlabeled_preds, temperature=0.5)\n",
    "         # Compute the loss for labeled examples\n",
    "        labeled_loss = self.loss_fn(mixed_preds, mixed_y)\n",
    "        \n",
    "        # Compute the loss for unlabeled examples\n",
    "        unlabeled_loss = -torch.mean(torch.log_softmax(unlabeled_preds, dim=1), dim=0)[y_l]\n",
    "        unlabeled_loss = torch.mean(unlabeled_loss)\n",
    "        \n",
    "        # Return the sum of labeled and unlabeled losses\n",
    "        return labeled_loss + self.beta * unlabeled_loss\n",
    "    \n",
    "import torch.nn as nn\n",
    "import torch.nn.functional as F\n",
    "\n",
    "# Define the model architecture\n",
    "class Net(nn.Module):\n",
    "    def __init__(self):\n",
    "        super(Net, self).__init__()\n",
    "        self.fc1 = nn.Linear(28 * 28, 128)  # first hidden layer, 128 neurons\n",
    "        self.fc2 = nn.Linear(128, 64)  # second hidden layer, 64 neurons\n",
    "        self.fc3 = nn.Linear(64, 32)  # third hidden layer, 32 neurons\n",
    "        self.fc4 = nn.Linear(32, 10)  # output layer, 10 neurons\n",
    "\n",
    "    def forward(self, x):\n",
    "        x = x.view(-1, 28 * 28)  # flatten the input to 1D\n",
    "        x = F.relu(self.fc1(x))  # first hidden layer with ReLU activation\n",
    "        x = F.relu(self.fc2(x))  # second hidden layer with ReLU activation\n",
    "        x = F.relu(self.fc3(x))  # third hidden layer with ReLU activation\n",
    "        x = self.fc4(x)  # output layer\n",
    "        return F.log_softmax(x, dim=1)  # log_softmax activation for multi-class classification\n",
    "\n",
    "# Initialize the model\n",
    "model = Net()\n"
   ]
  },
  {
   "cell_type": "code",
   "execution_count": null,
   "id": "759b2f86-f755-46fc-979b-b3f80034e483",
   "metadata": {},
   "outputs": [],
   "source": [
    "# Convert the arrays to PyTorch tensors\n",
    "X_train_labeled = torch.tensor(np.array(X_train_labeled))\n",
    "y_labeled = torch.tensor(np.array(y_labeled))\n",
    "X_train_unlabeled = torch.tensor(np.array(X_train_unlabeled))\n",
    "\n",
    "\n"
   ]
  },
  {
   "cell_type": "code",
   "execution_count": null,
   "id": "ef4fc333-cf20-4af3-b865-a590ce9385ef",
   "metadata": {},
   "outputs": [],
   "source": [
    "# Create a dataset from the labeled samples\n",
    "labeled_dataset = TensorDataset(X_train_labeled, y_labeled)\n",
    "\n",
    "# Create a data loader from the labeled dataset\n",
    "labeled_data_loader = DataLoader(labeled_dataset, batch_size=batch_size, shuffle=True)\n",
    "\n",
    "# Create a dataset from the unlabeled samples\n",
    "unlabeled_dataset = TensorDataset(X_train_unlabeled)\n",
    "\n",
    "# Create a data loader from the unlabeled dataset\n",
    "unlabeled_data_loader = DataLoader(unlabeled_dataset, batch_size=batch_size, shuffle=True)"
   ]
  },
  {
   "cell_type": "code",
   "execution_count": null,
   "id": "4f5721be-5e90-46da-9ff6-05341a343b58",
   "metadata": {},
   "outputs": [],
   "source": [
    "import torch\n",
    "import torch.optim as optim\n",
    "from torchvision import transforms\n",
    "from mixmatch import MixMatch\n",
    "\n",
    "# Set the optimizer to Adam with learning rate 0.001\n",
    "optimizer = optim.Adam(model.parameters(), lr=0.001)\n",
    "\n",
    "# Set the number of classes in the target variable to 10\n",
    "num_classes = 10\n",
    "\n",
    "# Set the beta parameter to 0.5\n",
    "beta = 0.5\n",
    "\n",
    "# Set the loss function to CrossEntropyLoss\n",
    "loss_fn = torch.nn.CrossEntropyLoss()\n",
    "\n",
    "# Define the augmentations to be applied to the input data\n",
    "augmentations = transforms.Compose([\n",
    "    transforms.RandomCrop(32, padding=4), # Crop the input image to 32x32 and pad if necessary\n",
    "    transforms.RandomHorizontalFlip(), # Randomly flip the image horizontally\n",
    "    transforms.RandomRotation(15), # Randomly rotate the image by up to 15 degrees\n",
    "    transforms.ToTensor(), # Convert the image to a tensor\n",
    "    transforms.Normalize((0.5, 0.5, 0.5), (0.5, 0.5, 0.5)) # Normalize the image\n",
    "])\n",
    "\n",
    "# Initialize the MixMatch loss function\n",
    "mixmatch_loss = MixMatch(model, loss_fn, num_classes, beta, augmentations)\n",
    "\n",
    "# Train the model for 100 epochs\n",
    "for epoch in range(100):\n",
    "    for i, (x, y) in enumerate(train_loader): # Use a data loader to process the training data in batches\n",
    "        # Zero the gradients\n",
    "        optimizer.zero_grad()\n",
    "\n",
    "        # Compute the loss\n",
    "        loss = mixmatch_loss(model, x1, y1, x2, y2, lam)\n",
    "        \n",
    "        # Compute the gradients and update the parameters\n",
    "        loss.backward()\n",
    "        optimizer.step()\n",
    "        \n",
    "        # Print the loss every 100 batches\n",
    "        if i % 100 == 0:\n",
    "            print(f'Epoch {epoch}, Batch {i}, Loss: {loss.item()}')\n"
   ]
  }
 ],
 "metadata": {
  "kernelspec": {
   "display_name": "Python 3 (ipykernel)",
   "language": "python",
   "name": "python3"
  },
  "language_info": {
   "codemirror_mode": {
    "name": "ipython",
    "version": 3
   },
   "file_extension": ".py",
   "mimetype": "text/x-python",
   "name": "python",
   "nbconvert_exporter": "python",
   "pygments_lexer": "ipython3",
   "version": "3.9.12"
  }
 },
 "nbformat": 4,
 "nbformat_minor": 5
}
